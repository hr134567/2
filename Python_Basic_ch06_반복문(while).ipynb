{
 "cells": [
  {
   "cell_type": "markdown",
   "id": "807643e8",
   "metadata": {},
   "source": [
    "### 반복문(while)\n",
    "- 반복횟수가 정해져 있지 않은 경우 사용\n",
    "- 조건이 True이면 계속 반복하며 실행\n",
    "- 조건이 Fasle이면 반복 종료\n",
    "- while 반복문은 \"무한 loop(데드락)\" 조심 → 다음 코드로 못 넘어감\n",
    "- \"무한 loop\" 사용 할 경우 반드시 break문 함께 사용!\n",
    "\n",
    "```python\n",
    "# while 기본 문법\n",
    "while 조건 :\n",
    "    실행문\n",
    "```"
   ]
  },
  {
   "cell_type": "code",
   "execution_count": 1,
   "id": "e4eaac9d",
   "metadata": {},
   "outputs": [
    {
     "name": "stdout",
     "output_type": "stream",
     "text": [
      "1\n",
      "2\n",
      "3\n",
      "4\n",
      "5\n",
      "6\n",
      "7\n",
      "8\n",
      "9\n",
      "10\n",
      "11\n",
      "12\n",
      "13\n",
      "14\n",
      "15\n"
     ]
    }
   ],
   "source": [
    "i = 0\n",
    "while(True) :\n",
    "    i+=1\n",
    "    print(i)\n",
    "    if (i==15) : break"
   ]
  },
  {
   "cell_type": "code",
   "execution_count": 2,
   "id": "16a3f701",
   "metadata": {},
   "outputs": [
    {
     "name": "stdout",
     "output_type": "stream",
     "text": [
      "점수 : 115\n",
      "0~100 값을 입력하세요.\n",
      "점수 : 78\n"
     ]
    }
   ],
   "source": [
    "# 사용자가 0~100 사이의 값을 입력\n",
    "\n",
    "while(True) :\n",
    "    score = int(input(\"점수 : \"))\n",
    "    if 0 <= score <= 100 :\n",
    "        break\n",
    "    else :\n",
    "        print(\"0~100 값을 입력하세요.\")\n"
   ]
  },
  {
   "cell_type": "code",
   "execution_count": 4,
   "id": "02342327",
   "metadata": {},
   "outputs": [
    {
     "name": "stdout",
     "output_type": "stream",
     "text": [
      "5050\n",
      "5050\n"
     ]
    }
   ],
   "source": [
    "# 1~100의 값의 총합\n",
    "sum = 0\n",
    "for i in range(101) :\n",
    "    sum += i\n",
    "print(sum)\n",
    "\n",
    "sum = 0\n",
    "i = 1\n",
    "while(True) :\n",
    "    sum += i\n",
    "    i += 1\n",
    "    if i==101 : break\n",
    "print(sum)"
   ]
  }
 ],
 "metadata": {
  "kernelspec": {
   "display_name": "Python 3 (ipykernel)",
   "language": "python",
   "name": "python3"
  },
  "language_info": {
   "codemirror_mode": {
    "name": "ipython",
    "version": 3
   },
   "file_extension": ".py",
   "mimetype": "text/x-python",
   "name": "python",
   "nbconvert_exporter": "python",
   "pygments_lexer": "ipython3",
   "version": "3.9.13"
  }
 },
 "nbformat": 4,
 "nbformat_minor": 5
}
