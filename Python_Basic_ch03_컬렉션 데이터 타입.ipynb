{
 "cells": [
  {
   "cell_type": "markdown",
   "id": "0aa9aa45",
   "metadata": {},
   "source": [
    "## 컬렉션 타입\n",
    "- 변수 : 하나에 값을 저장할 수 있는 메모리 공간\n",
    "- 컬렉션 타입 : 다양한 자료형의 여러값을 저장 가능\n",
    "- list, dict, tuple, set\n",
    "\n",
    "1. list.[.].\n",
    "- 시퀀스 자료형(연속된 값 저장) -> 정렬 가능\n",
    "- mutable(생성 후 변경 가능)\n",
    "- index 사용 -> slicing 가능\n",
    "- packing과 unpacking 가능\n",
    "- 멤버함수 : append(), extend(), insert(), remove(), pop(), sort() 등등\n",
    "\n",
    "2. tuple()\n",
    "- 시퀀스 자료형(연속된 값 저장) -> 정렬 가능\n",
    "- immutable(생성 후 변경 불가능)\n",
    "- index 사용 -> slicing 가능\n",
    "- () 생략 가능\n",
    "- 1개의 원소만 가지는 경우 ,사용 -> (1,)\n",
    "\n",
    "3. dict{key:value}\n",
    "- key, value 한 쌍으로 구성 된 구조\n",
    "- key를 통해서 value 접근\n",
    "- key 중복 불가, value 중복 가능\n",
    "- 순서 없음 -> index 없음\n",
    "- 멤버함수 : update(), get(), keys(), values(), items()\n",
    "\n",
    "4. set()\n",
    "- dict type에서 key만 활용하는 데이터 구조로 이해\n",
    "- 수학 집합과 같은 개념\n",
    "- 순서 없음 -> index 없음\n",
    "- set 구조 내 중복값 허용 안 함\n",
    "- 멤버함수 : union(), intersection(), difference() 등 "
   ]
  },
  {
   "cell_type": "code",
   "execution_count": 1,
   "id": "03571152",
   "metadata": {},
   "outputs": [],
   "source": [
    "# list 초기화\n",
    "# 1. []\n",
    "# 2. list()\n",
    "\n",
    "list_a = []\n",
    "list_b = [1,2,3]\n",
    "list_c = [\"cnu\", 3.14, [1,2,3]]"
   ]
  },
  {
   "cell_type": "code",
   "execution_count": 6,
   "id": "8e8b249b",
   "metadata": {},
   "outputs": [
    {
     "name": "stdout",
     "output_type": "stream",
     "text": [
      "['H', 'e', 'l', 'l', 'o']\n",
      "[1, 2, 3]\n"
     ]
    }
   ],
   "source": [
    "str_a = \"Hello\"\n",
    "list_d = list(str_a)    #문자열 → 리스트 변환 가능\n",
    "print(list_d)\n",
    "\n",
    "tuple_a = (1,2,3)\n",
    "list_e = list(tuple_a)\n",
    "print(list_e)"
   ]
  },
  {
   "cell_type": "code",
   "execution_count": null,
   "id": "ad8d2e97",
   "metadata": {},
   "outputs": [],
   "source": [
    "list_f = [1,2,3,4,5]\n",
    "print(list_f[3])\n",
    "print(list_f[1:3])\n",
    "print(list_f[:2])"
   ]
  },
  {
   "cell_type": "code",
   "execution_count": 8,
   "id": "89a989ca",
   "metadata": {},
   "outputs": [
    {
     "name": "stdout",
     "output_type": "stream",
     "text": [
      "[1, 2, 3, 10]\n"
     ]
    }
   ],
   "source": [
    "# append() : list 마지막에 값을 추가\n",
    "a = [1,2,3]\n",
    "a.append(10)\n",
    "print(a)"
   ]
  },
  {
   "cell_type": "code",
   "execution_count": 9,
   "id": "8c90b7c6",
   "metadata": {},
   "outputs": [
    {
     "name": "stdout",
     "output_type": "stream",
     "text": [
      "[1, 99, 2, 3]\n"
     ]
    }
   ],
   "source": [
    "# insert() : list 원하는 인덱스 위치에 값을 추가\n",
    "a = [1,2,3]\n",
    "a.insert(1,99)\n",
    "print(a)"
   ]
  },
  {
   "cell_type": "code",
   "execution_count": 12,
   "id": "1d297b1a",
   "metadata": {},
   "outputs": [
    {
     "name": "stdout",
     "output_type": "stream",
     "text": [
      "[1, 2, 3, [4, 5, 6]]\n",
      "[1, 2, 3, 4, 5, 6]\n"
     ]
    }
   ],
   "source": [
    "# extend() : list와 list 병합\n",
    "a = [1,2,3]\n",
    "b = [4,5,6]\n",
    "a.append(b)\n",
    "print(a)\n",
    "a = [1,2,3]\n",
    "a.extend(b)\n",
    "print(a)"
   ]
  }
 ],
 "metadata": {
  "kernelspec": {
   "display_name": "Python 3 (ipykernel)",
   "language": "python",
   "name": "python3"
  },
  "language_info": {
   "codemirror_mode": {
    "name": "ipython",
    "version": 3
   },
   "file_extension": ".py",
   "mimetype": "text/x-python",
   "name": "python",
   "nbconvert_exporter": "python",
   "pygments_lexer": "ipython3",
   "version": "3.9.13"
  }
 },
 "nbformat": 4,
 "nbformat_minor": 5
}
