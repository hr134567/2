{
 "cells": [
  {
   "cell_type": "markdown",
   "id": "0aa9aa45",
   "metadata": {},
   "source": [
    "## 컬렉션 타입\n",
    "- 변수 : 하나에 값을 저장할 수 있는 메모리 공간\n",
    "- 컬렉션 타입 : 다양한 자료형의 여러값을 저장 가능\n",
    "- list, dict, tuple, set\n",
    "\n",
    "1. list.[.].\n",
    "- 시퀀스 자료형(연속된 값 저장) -> 정렬 가능\n",
    "- mutable(생성 후 변경 가능)\n",
    "- index 사용 -> slicing 가능\n",
    "- packing과 unpacking 가능\n",
    "- 멤버함수 : append(), extend(), insert(), remove(), pop(), sort() 등등\n",
    "\n",
    "2. tuple()\n",
    "- 시퀀스 자료형(연속된 값 저장) -> 정렬 가능\n",
    "- immutable(생성 후 변경 불가능)\n",
    "- index 사용 -> slicing 가능\n",
    "- () 생략 가능\n",
    "- 1개의 원소만 가지는 경우 ,사용 -> (1,)\n",
    "\n",
    "3. dict{key:value}\n",
    "- key, value 한 쌍으로 구성 된 구조\n",
    "- key를 통해서 value 접근\n",
    "- key 중복 불가, value 중복 가능\n",
    "- 순서 없음 -> index 없음\n",
    "- 멤버함수 : update(), get(), keys(), values(), items()\n",
    "\n",
    "4. set()\n",
    "- dict type에서 key만 활용하는 데이터 구조로 이해\n",
    "- 수학 집합과 같은 개념\n",
    "- 순서 없음 -> index 없음\n",
    "- set 구조 내 중복값 허용 안 함\n",
    "- 멤버함수 : union(), intersection(), difference() 등 "
   ]
  },
  {
   "cell_type": "markdown",
   "id": "d6886cac",
   "metadata": {},
   "source": [
    "### 1. list"
   ]
  },
  {
   "cell_type": "code",
   "execution_count": 1,
   "id": "03571152",
   "metadata": {},
   "outputs": [],
   "source": [
    "# list 초기화\n",
    "# 1. []\n",
    "# 2. list()\n",
    "\n",
    "list_a = []\n",
    "list_b = [1,2,3]\n",
    "list_c = [\"cnu\", 3.14, [1,2,3]]"
   ]
  },
  {
   "cell_type": "code",
   "execution_count": 6,
   "id": "8e8b249b",
   "metadata": {},
   "outputs": [
    {
     "name": "stdout",
     "output_type": "stream",
     "text": [
      "['H', 'e', 'l', 'l', 'o']\n",
      "[1, 2, 3]\n"
     ]
    }
   ],
   "source": [
    "str_a = \"Hello\"\n",
    "list_d = list(str_a)    #문자열 → 리스트 변환 가능\n",
    "print(list_d)\n",
    "\n",
    "tuple_a = (1,2,3)\n",
    "list_e = list(tuple_a)\n",
    "print(list_e)"
   ]
  },
  {
   "cell_type": "code",
   "execution_count": 1,
   "id": "ad8d2e97",
   "metadata": {},
   "outputs": [
    {
     "name": "stdout",
     "output_type": "stream",
     "text": [
      "4\n",
      "[2, 3]\n",
      "[1, 2]\n"
     ]
    }
   ],
   "source": [
    "list_f = [1,2,3,4,5]\n",
    "print(list_f[3])\n",
    "print(list_f[1:3])\n",
    "print(list_f[:2])"
   ]
  },
  {
   "cell_type": "code",
   "execution_count": 8,
   "id": "89a989ca",
   "metadata": {},
   "outputs": [
    {
     "name": "stdout",
     "output_type": "stream",
     "text": [
      "[1, 2, 3, 10]\n"
     ]
    }
   ],
   "source": [
    "# append() : list 마지막에 값을 추가\n",
    "a = [1,2,3]\n",
    "a.append(10)\n",
    "print(a)"
   ]
  },
  {
   "cell_type": "code",
   "execution_count": 9,
   "id": "8c90b7c6",
   "metadata": {},
   "outputs": [
    {
     "name": "stdout",
     "output_type": "stream",
     "text": [
      "[1, 99, 2, 3]\n"
     ]
    }
   ],
   "source": [
    "# insert() : list 원하는 인덱스 위치에 값을 추가\n",
    "a = [1,2,3]\n",
    "a.insert(1,99)\n",
    "print(a)"
   ]
  },
  {
   "cell_type": "code",
   "execution_count": 4,
   "id": "1d297b1a",
   "metadata": {},
   "outputs": [
    {
     "name": "stdout",
     "output_type": "stream",
     "text": [
      "[1, 2, 3, [4, 5, 6]]\n",
      "[1, 2, 3, 4, 5, 6]\n",
      "[1, 2, 3, 4, 5, 6]\n"
     ]
    }
   ],
   "source": [
    "# extend() : list와 list 병합\n",
    "a = [1,2,3]\n",
    "b = [4,5,6]\n",
    "a.append(b)\n",
    "print(a)\n",
    "a = [1,2,3]\n",
    "a.extend(b)\n",
    "print(a)\n",
    "a = [1,2,3]\n",
    "a += b\n",
    "print(a)"
   ]
  },
  {
   "cell_type": "code",
   "execution_count": 5,
   "id": "552dca4f",
   "metadata": {},
   "outputs": [
    {
     "name": "stdout",
     "output_type": "stream",
     "text": [
      "[1, 3]\n"
     ]
    }
   ],
   "source": [
    "# remove() : 값을 통해서 삭제(인덱스X)\n",
    "a = [1,2,3]\n",
    "a.remove(2)\n",
    "print(a)"
   ]
  },
  {
   "cell_type": "code",
   "execution_count": 8,
   "id": "5f1ac34f",
   "metadata": {},
   "outputs": [
    {
     "name": "stdout",
     "output_type": "stream",
     "text": [
      "[4, 5]\n",
      "6\n"
     ]
    }
   ],
   "source": [
    "# pop() : 인덱스를 통해서 삭제(+삭제 전 값을 변수에 저장 가능)\n",
    "a = [4,5,6]\n",
    "b = a.pop(2)\n",
    "print(a)\n",
    "print(b)"
   ]
  },
  {
   "cell_type": "code",
   "execution_count": 10,
   "id": "42dabce9",
   "metadata": {},
   "outputs": [
    {
     "name": "stdout",
     "output_type": "stream",
     "text": [
      "2\n"
     ]
    },
    {
     "data": {
      "text/plain": [
       "'haram040131'"
      ]
     },
     "execution_count": 10,
     "metadata": {},
     "output_type": "execute_result"
    }
   ],
   "source": [
    "#index() : 찾고자 하는 값의 인덱스 번호 출력\n",
    "a = [8,10,20,5,3]\n",
    "print(a.index(20))\n",
    "\n",
    "email = \"haram040131@naver.com\"\n",
    "sep_idx = email.index(\"@\")\n",
    "email[:sep_idx]"
   ]
  },
  {
   "cell_type": "code",
   "execution_count": 11,
   "id": "52104401",
   "metadata": {},
   "outputs": [
    {
     "name": "stdout",
     "output_type": "stream",
     "text": [
      "True\n",
      "False\n"
     ]
    }
   ],
   "source": [
    "# in : list내에 해당 값이 존재(True, False)\n",
    "a = [1,2,3]\n",
    "print(3 in a)\n",
    "print(5 in a)"
   ]
  },
  {
   "cell_type": "code",
   "execution_count": 20,
   "id": "d62bf75f",
   "metadata": {},
   "outputs": [
    {
     "name": "stdout",
     "output_type": "stream",
     "text": [
      "[23, 45, 54, 12, 26, 48, 56, 83]\n",
      "[12, 23, 26, 45, 48, 54, 56, 83]\n",
      "==================================================\n",
      "[83, 56, 54, 48, 45, 26, 23, 12]\n"
     ]
    }
   ],
   "source": [
    "# sort() and sorted() : list 정렬\n",
    "# - sort() : 원본 list 정렬\n",
    "# - sorted() : list 복제 후 정렬\n",
    "\n",
    "a = [23,45,54,12,26,48,56,83]\n",
    "b = sorted(a)      #정렬 default : 오름차순\n",
    "print(a)\n",
    "print(b)\n",
    "print(\"=\"*50)\n",
    "a.sort(reverse=True)  #내림차순\n",
    "print(a)"
   ]
  },
  {
   "cell_type": "markdown",
   "id": "14e3fc8c",
   "metadata": {},
   "source": [
    "### 2. tuple"
   ]
  },
  {
   "cell_type": "code",
   "execution_count": 24,
   "id": "5a450309",
   "metadata": {},
   "outputs": [
    {
     "name": "stdout",
     "output_type": "stream",
     "text": [
      "<class 'list'>\n",
      "<class 'tuple'>\n",
      "<class 'tuple'>\n",
      "[99, 2, 3]\n"
     ]
    }
   ],
   "source": [
    "a = [1,2,3]  #list type\n",
    "b = (1,2,3)  #tuple type\n",
    "c = 5,6,7    #tuple type\n",
    "\n",
    "print(type(a))\n",
    "print(type(b))\n",
    "print(type(c))\n",
    "\n",
    "a[0] = 99\n",
    "print(a)\n",
    "\n",
    "# b[0] = 99  (튜플은 값 변경 불가능)"
   ]
  },
  {
   "cell_type": "code",
   "execution_count": 25,
   "id": "296b8ac4",
   "metadata": {},
   "outputs": [
    {
     "name": "stdout",
     "output_type": "stream",
     "text": [
      "1 2 3\n"
     ]
    }
   ],
   "source": [
    "# packing and unpacking\n",
    "# - list와 tuple 가능\n",
    "# - [], () → 값을 묶음(packing)\n",
    "\n",
    "tuple_num = (1,2,3)   # packing\n",
    "a,b,c = tuple_num     # unpacking\n",
    "print(a,b,c)"
   ]
  },
  {
   "cell_type": "markdown",
   "id": "31e8eb5b",
   "metadata": {},
   "source": [
    "## 연습문제\n",
    "변수 a와 b의 값을 교환하세요"
   ]
  },
  {
   "cell_type": "code",
   "execution_count": 30,
   "id": "41459806",
   "metadata": {},
   "outputs": [
    {
     "name": "stdout",
     "output_type": "stream",
     "text": [
      "9\n",
      "5\n"
     ]
    }
   ],
   "source": [
    "a = 5\n",
    "b = 9\n",
    "\n",
    "# 1. 임시변수 사용\n",
    "# temp = a\n",
    "# a = b\n",
    "# b = temp\n",
    "\n",
    "# 2. tuple() 사용\n",
    "a,b = b,a\n",
    "\n",
    "print(a)\n",
    "print(b)"
   ]
  },
  {
   "cell_type": "markdown",
   "id": "286dfca6",
   "metadata": {},
   "source": [
    "### 3. dict"
   ]
  },
  {
   "cell_type": "code",
   "execution_count": 31,
   "id": "248924e4",
   "metadata": {},
   "outputs": [
    {
     "name": "stdout",
     "output_type": "stream",
     "text": [
      "ottawa\n",
      "9\n"
     ]
    }
   ],
   "source": [
    "dict_a = {\"korea\" : \"seoul\", \"canada\" : \"ottawa\", \"usa\" : \"washington D.C\"}\n",
    "dict_b = {0:1, 1:6, 2:4, 3:9}\n",
    "print(dict_a[\"canada\"])\n",
    "print(dict_b[3])"
   ]
  },
  {
   "cell_type": "code",
   "execution_count": 39,
   "id": "144a5db5",
   "metadata": {},
   "outputs": [
    {
     "name": "stdout",
     "output_type": "stream",
     "text": [
      "{'korea': 'seoul', 'canada': 'ottawa', 'usa': 'washington D.C', 'japan': 'kyoto', 'japan2': 'kyoto'}\n",
      "{'canada': 'ottawa',\n",
      " 'japan': 'kyoto',\n",
      " 'japan2': 'kyoto',\n",
      " 'korea': 'seoul',\n",
      " 'usa': 'washington D.C'}\n"
     ]
    }
   ],
   "source": [
    "import pprint\n",
    "dict_a = {\"korea\" : \"seoul\", \"canada\" : \"ottawa\", \"usa\" : \"washington D.C\"}\n",
    "# 값을 입력 -> key값이 X(입력), key값이 0(수정)\n",
    "dict_a[\"japan\"] = \"tokyo\"\n",
    "dict_a[\"japan\"] = \"kyoto\"\n",
    "dict_a[\"japan2\"] = \"kyoto\"\n",
    "print(dict_a)\n",
    "pprint.pprint(dict_a)"
   ]
  },
  {
   "cell_type": "code",
   "execution_count": 41,
   "id": "bfd47f1a",
   "metadata": {},
   "outputs": [
    {
     "name": "stdout",
     "output_type": "stream",
     "text": [
      "{'a': 9, 'b': 2, 'd': 4, 'e': 5}\n"
     ]
    }
   ],
   "source": [
    "# update() : dict와 dict 병합\n",
    "a = {\"a\" : 1, \"b\" : 2}\n",
    "b = {\"a\" : 9, \"d\" : 4, \"e\" :5}\n",
    "a.update(b)    #중복 key가 있으면 업데이트 되는 값이 우선\n",
    "print(a)"
   ]
  },
  {
   "cell_type": "code",
   "execution_count": 42,
   "id": "40e3cac8",
   "metadata": {},
   "outputs": [
    {
     "name": "stdout",
     "output_type": "stream",
     "text": [
      "{'b': 2, 'd': 4, 'e': 5}\n",
      "9\n"
     ]
    }
   ],
   "source": [
    "# pop() : dict 항목 삭제\n",
    "c = a.pop(\"a\")\n",
    "print(a)\n",
    "print(c)"
   ]
  },
  {
   "cell_type": "code",
   "execution_count": 43,
   "id": "05bd316c",
   "metadata": {},
   "outputs": [
    {
     "name": "stdout",
     "output_type": "stream",
     "text": [
      "5\n",
      "None\n"
     ]
    }
   ],
   "source": [
    "# 값 접근\n",
    "print(a[\"e\"])\n",
    "#print(a[\"f\"])\n",
    "print(a.get(\"f\"))    # key에 없는 값을 입력했을 때"
   ]
  },
  {
   "cell_type": "code",
   "execution_count": 44,
   "id": "7ff16997",
   "metadata": {},
   "outputs": [
    {
     "name": "stdout",
     "output_type": "stream",
     "text": [
      "True\n"
     ]
    }
   ],
   "source": [
    "# in\n",
    "print(\"b\" in a)"
   ]
  },
  {
   "cell_type": "code",
   "execution_count": 45,
   "id": "70f6b1ab",
   "metadata": {},
   "outputs": [
    {
     "name": "stdout",
     "output_type": "stream",
     "text": [
      "{'b': 2, 'd': 4, 'e': 5}\n",
      "{}\n"
     ]
    }
   ],
   "source": [
    "# claer() : dict 초기화\n",
    "print(a)\n",
    "a.clear()\n",
    "print(a)"
   ]
  },
  {
   "cell_type": "code",
   "execution_count": 10,
   "id": "9b338c68",
   "metadata": {
    "scrolled": true
   },
   "outputs": [
    {
     "name": "stdout",
     "output_type": "stream",
     "text": [
      "{'a': 1, 'b': 2}\n",
      "dict_keys(['a', 'b'])\n",
      "<class 'dict_keys'>\n",
      "dict_values([1, 2])\n",
      "<class 'dict_values'>\n",
      "dict_items([('a', 1), ('b', 2)])\n",
      "<class 'dict_items'>\n",
      "['a', 'b']\n",
      "<class 'list'>\n",
      "[('a', 1), ('b', 2)]\n",
      "<class 'list'>\n",
      "<class 'list'>\n",
      "<class 'tuple'>\n"
     ]
    }
   ],
   "source": [
    "#key() : key값만 반환\n",
    "# values() : value값만 반환\n",
    "# items() : key, value를 튜플로 반환\n",
    "a = {\n",
    "    \"a\" : 1,\n",
    "    \"b\" : 2\n",
    "}\n",
    "\n",
    "print(a)\n",
    "print(a.keys())\n",
    "print(type(a.keys()))\n",
    "print(a.values())\n",
    "print(type(a.values()))\n",
    "print(a.items())\n",
    "print(type(a.items()))\n",
    "\n",
    "print(list(a.keys()))\n",
    "print(type(list(a.keys())))\n",
    "\n",
    "print(list(a.items()))\n",
    "val = list(a.items())\n",
    "print(type(val))\n",
    "\n",
    "print(type(val))\n",
    "print(type(val[0]))"
   ]
  },
  {
   "cell_type": "markdown",
   "id": "9adade45",
   "metadata": {},
   "source": [
    "### 4. set"
   ]
  },
  {
   "cell_type": "code",
   "execution_count": 12,
   "id": "f439aabb",
   "metadata": {},
   "outputs": [
    {
     "name": "stdout",
     "output_type": "stream",
     "text": [
      "[1, 1, 1, 2, 2, 2, 3, 3, 4, 4, 5]\n",
      "{1, 2, 3, 4, 5}\n",
      "<class 'dict'>\n"
     ]
    }
   ],
   "source": [
    "list_z = [1, 1, 1, 2, 2, 2, 3, 3, 4, 4, 5]\n",
    "print(list_z)\n",
    "\n",
    "set_a = set(list_z)\n",
    "print(set_a)\n",
    "\n",
    "# set? or dict?\n",
    "j = {}\n",
    "print(type(j))"
   ]
  },
  {
   "cell_type": "code",
   "execution_count": 15,
   "id": "d750476e",
   "metadata": {},
   "outputs": [
    {
     "name": "stdout",
     "output_type": "stream",
     "text": [
      "{1, 2, 3, 4}\n",
      "{2, 3}\n",
      "{1}\n",
      "False\n"
     ]
    }
   ],
   "source": [
    "a = {1,2,3}\n",
    "b = {2,3,4}\n",
    "#시험에 안 나와요\n",
    "print(a.union(b))          # 합집합\n",
    "print(a.intersection(b))   # 교집합\n",
    "print(a.difference(b))     # 차집합\n",
    "print(a.issubset(b))       # 부분집합(b가 {1,2,3,4}이면 True 반환)                                                                                                                                                                                                                                                                            )"
   ]
  },
  {
   "cell_type": "code",
   "execution_count": null,
   "id": "f9b91ff5",
   "metadata": {},
   "outputs": [],
   "source": []
  }
 ],
 "metadata": {
  "kernelspec": {
   "display_name": "Python 3 (ipykernel)",
   "language": "python",
   "name": "python3"
  },
  "language_info": {
   "codemirror_mode": {
    "name": "ipython",
    "version": 3
   },
   "file_extension": ".py",
   "mimetype": "text/x-python",
   "name": "python",
   "nbconvert_exporter": "python",
   "pygments_lexer": "ipython3",
   "version": "3.9.13"
  }
 },
 "nbformat": 4,
 "nbformat_minor": 5
}
